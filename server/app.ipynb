{
 "cells": [
  {
   "cell_type": "code",
   "execution_count": 1,
   "id": "43c08a65",
   "metadata": {},
   "outputs": [],
   "source": [
    "from typing import TypedDict, Annotated\n",
    "from langgraph.graph import add_messages, StateGraph, END\n",
    "from langchain_openai import ChatOpenAI\n",
    "from dotenv import load_dotenv\n",
    "from langchain_community.tools import TavilySearchResults\n",
    "from langgraph.checkpoint.memory import MemorySaver\n",
    "from langchain_core.tools import tool\n",
    "from uuid import uuid4\n",
    "import json\n",
    "\n",
    "load_dotenv()\n",
    "\n",
    "model= ChatOpenAI(model=\"gpt-4o\")\n"
   ]
  },
  {
   "cell_type": "code",
   "execution_count": 2,
   "id": "304aa203",
   "metadata": {},
   "outputs": [
    {
     "name": "stderr",
     "output_type": "stream",
     "text": [
      "/var/folders/5c/rj4q3p_95m3b74t0bzy4hgyw0000gn/T/ipykernel_13906/2370642618.py:1: LangChainDeprecationWarning: The class `TavilySearchResults` was deprecated in LangChain 0.3.25 and will be removed in 1.0. An updated version of the class exists in the :class:`~langchain-tavily package and should be used instead. To use it run `pip install -U :class:`~langchain-tavily` and import as `from :class:`~langchain_tavily import TavilySearch``.\n",
      "  search_tool= TavilySearchResults(max_results=4)\n"
     ]
    },
    {
     "data": {
      "text/plain": [
       "[{'title': 'Space Launch Schedule & Live Videos: Stream Rockets Launches',\n",
       "  'url': 'https://www.spacelaunchschedule.com/',\n",
       "  'content': 'Go For Launch \\n\\n Wed • Aug 20th, 2025\\n\\n 5:13 PM UTC \\n\\n Baikonur Cosmodrome, Republic of Kazakhstan \\n\\n (USSF-36)Falcon 9 Block 5 ---------------------------------------\\n### SpaceX\\n\\n Date/Time TBD \\n\\n Projected To Launch\\n\\n Thu • Aug 21st, 2025 \\n\\n Kennedy Space Center, FL, USA \\n\\n\\n   Vulcan\\n   New Glenn\\n   New Shepard\\n\\n### View The Rocket Launch Schedule\\n\\n### By Location',\n",
       "  'score': 0.86080295},\n",
       " {'title': \"What time is SpaceX's Starship Flight 10 launch on Aug. 24?\",\n",
       "  'url': 'https://www.space.com/space-exploration/launches-spacecraft/spacex-starship-flight-10-launch-what-time',\n",
       "  'content': \"The Starship Flight 10 test is currently scheduled to launch on Sunday evening, Aug. 24, at 7:30 p.m. EDT (2300 GMT) from SpaceX's Starbase facility near Boca Chica Beach in South Texas. The launch could actually occur any time in a 60-minute window that opens at that time. It will be 6:30 p.m. CDT (local time) at launch time. You'll be able to watch the launch live on this page, courtesy of SpaceX, on Sunday. Follow our Starship Flight 10 live updates for mission coverage. [...] Image 25: A SpaceX Falcon 9 rocket launches 24 Starlink satellites from Vandenberg Space Force Base in California on Aug. 22, 2025. SpaceX launches 24 Starlink satellites to orbit from California (video, photos)Image 26: SpaceX moves its Super Heavy booster to the launch pad in Starbase, Texas, ahead of the planned launch of Starship Flight 10. SpaceX posted this photo on X on Aug. 21, 2025. SpaceX moves giant Super Heavy rocket to pad ahead of Starship Flight 10 launch (photos)Image 27: a [...] 1.   Space Exploration\\n2.   Launches & Spacecraft\\n\\nWhat time is SpaceX's Starship Flight 10 launch on Aug. 24?\\n===========================================================\\n\\nNews\\n\\n By Tariq Malik published 4 hours ago\\n\\nSpaceX is aiming to launch its Starship Flight 10 test mission no earlier than Sunday at 7:30 p.m. EDT (2330 GMT), but only if conditions allow.\\n\\n   ()\\n\\nWhen you purchase through links on our site, we may earn an affiliate commission. Here’s how it works.\",\n",
       "  'score': 0.8252664},\n",
       " {'title': 'Launch Schedule - Spaceflight Now',\n",
       "  'url': 'https://spaceflightnow.com/launch-schedule/',\n",
       "  'content': 'Image 11Launch preview: SpaceX, NASA launches Crew-11 following 1-day weather scrub July 31, 2025 [...] which, $256.6 million was awarded to SpaceX to provide launch services and other mission related costs. The 20-day launch window opens on July 5, 2028. [...] Image 7ULA’s Tory Bruno lays out plans for ramping up launch cadence August 7, 2025  \\n   Image 8Poor weather scrubs SpaceX’s second launch attempt to launch 24 Amazon Project Kuiper satellites from CAPE CANAVERAL August 6, 2025  \\n   Image 9Starlink mission marks SpaceX’s 450th flight-proven Falcon booster launched August 3, 2025  \\n   Image 10NASA, SpaceX ‘thread the clouds’ to launch Crew-11 to the International Space Station August 1, 2025',\n",
       "  'score': 0.8232293},\n",
       " {'title': 'SpaceX Launch Manifest',\n",
       "  'url': 'https://nextspaceflight.com/launches/agency/upcoming/1/',\n",
       "  'content': 'SpaceX Launch Manifest\\n\\n===============\\n\\nNEXT SPACEFLIGHTLaunchesEventsStarshipRocketsReuseLocations\\n\\nNEXT SPACEFLIGHTImage 1 LaunchesImage 2 EventsImage 3 StarshipImage 4 RocketsImage 5 ReuseImage 6 Locations\\n\\n### SpaceX Manifest\\n\\nUpcomingPast\\n\\n SpaceX \\n\\n##### Falcon 9 Block 5 | Project Kuiper (KF-01)\\n\\n ASOG \\n\\n Inflight | Launch Wed Jul 16, 2025 06:30 UTC\\n\\nSLC-40, Cape Canaveral SFS, Florida, USA \\n\\nDetailsWatch\\n\\n SpaceX \\n\\n##### Falcon 9 Block 5 | Starlink Group 17-3\\n\\n OCISLY [...] Sat Jul 19, 2025 02:08 UTC\\n\\nSLC-4E, Vandenberg SFB, California, USA \\n\\nDetails\\n\\n SpaceX \\n\\n##### Falcon 9 Block 5 | Starlink Group 17-2\\n\\n OCISLY \\n\\nMon Jul 21, 2025 02:09 UTC\\n\\nSLC-4E, Vandenberg SFB, California, USA \\n\\nDetails\\n\\n SpaceX \\n\\n##### Falcon 9 Block 5 | O3b mPOWER 9 & 10\\n\\n ASDS \\n\\nMon Jul 21, 2025 21:00 UTC\\n\\nSLC-40, Cape Canaveral SFS, Florida, USA \\n\\nDetails\\n\\n SpaceX \\n\\n##### Falcon 9 Block 5 | TRACERS & Others\\n\\n LZ-4 \\n\\nTue Jul 22, 2025 18:05 UTC\\n\\nSLC-4E, Vandenberg SFB, California, USA',\n",
       "  'score': 0.80405265}]"
      ]
     },
     "execution_count": 2,
     "metadata": {},
     "output_type": "execute_result"
    }
   ],
   "source": [
    "search_tool= TavilySearchResults(max_results=4)\n",
    "\n",
    "tools=[search_tool]\n",
    "memory= MemorySaver()\n",
    "\n",
    "\n",
    "response= await search_tool.ainvoke(\"When is the spaceX launch\")\n",
    "response"
   ]
  },
  {
   "cell_type": "code",
   "execution_count": 81,
   "id": "bd7a375f",
   "metadata": {},
   "outputs": [],
   "source": [
    "llm_with_tools= model.bind_tools(tools)"
   ]
  },
  {
   "cell_type": "code",
   "execution_count": 82,
   "id": "2480cb97",
   "metadata": {},
   "outputs": [],
   "source": [
    "from langchain_core.messages import AIMessage, HumanMessage, ToolMessage\n",
    "\n",
    "class State(TypedDict):\n",
    "    messages: Annotated[list, add_messages]\n",
    "\n",
    "async def model(state: State):\n",
    "    result= await llm_with_tools.ainvoke(state[\"messages\"])\n",
    "\n",
    "    return {\n",
    "        \"messages\": [result]\n",
    "    }\n",
    "\n",
    "async def tools_router(state: State):\n",
    "    last_message= state[\"messages\"][-1]\n",
    "\n",
    "    if hasattr(last_message, \"tool_calls\") and last_message.tool_calls :\n",
    "        return \"tool_node\"\n",
    "    else:\n",
    "        return END\n",
    "\n",
    "async def tool_node(state: State):\n",
    "    \"\"\"Custom tool node that handles tool calls from the LLM\"\"\"\n",
    "\n",
    "    tool_calls= state[\"messages\"][-1].tool_calls\n",
    "\n",
    "    tool_messages=[]\n",
    "\n",
    "    for tool_call in tool_calls:\n",
    "        tool_name= tool_call[\"name\"]\n",
    "        tool_args= tool_call[\"args\"]\n",
    "        tool_id= tool_call[\"id\"]\n",
    "\n",
    "        if tool_name ==\"tavily_search_results_json\" :\n",
    "\n",
    "            search_results= search_tool.invoke(tool_args)\n",
    "\n",
    "            tool_message= ToolMessage(\n",
    "                content=str(search_results),\n",
    "                tool_call_id= tool_id,\n",
    "                name= tool_name\n",
    "            )\n",
    "\n",
    "            tool_messages.append(tool_message)\n",
    "    \n",
    "    return {\n",
    "        \"messages\": tool_messages\n",
    "    }\n",
    "\n",
    "graph_builder= StateGraph(State)\n",
    "\n",
    "graph_builder.add_node(\"model\", model)\n",
    "graph_builder.add_node(\"tool_node\", tool_node)\n",
    "\n",
    "graph_builder.set_entry_point(\"model\")\n",
    "\n",
    "graph_builder.add_conditional_edges(\"model\", tools_router)\n",
    "\n",
    "graph_builder.add_edge(\"tool_node\", \"model\")\n",
    "\n",
    "graph= graph_builder.compile(checkpointer=memory)    \n",
    "\n"
   ]
  },
  {
   "cell_type": "code",
   "execution_count": 83,
   "id": "f174c1b9",
   "metadata": {},
   "outputs": [
    {
     "data": {
      "image/png": "[encoded data removed]",
      "text/plain": [
       "<IPython.core.display.Image object>"
      ]
     },
     "metadata": {},
     "output_type": "display_data"
    }
   ],
   "source": [
    "from IPython.display import Image, display\n",
    "from langchain_core.runnables.graph import MermaidDrawMethod\n",
    "\n",
    "display(\n",
    "    Image(\n",
    "        graph.get_graph().draw_mermaid_png(\n",
    "            draw_method=MermaidDrawMethod.API\n",
    "        )\n",
    "    )\n",
    ")"
   ]
  },
  {
   "cell_type": "code",
   "execution_count": 86,
   "id": "9daf1b8c",
   "metadata": {},
   "outputs": [
    {
     "data": {
      "text/plain": [
       "{'messages': [HumanMessage(content='What is current weather in Kolkata', additional_kwargs={}, response_metadata={}, id='d4c0bc16-94b0-480b-b4f2-1b9c42b1c9c9'),\n",
       "  AIMessage(content='', additional_kwargs={'tool_calls': [{'id': 'call_Las3X71EyN5LTGh5lIcGYzwv', 'function': {'arguments': '{\"query\":\"current weather in Kolkata\"}', 'name': 'tavily_search_results_json'}, 'type': 'function'}], 'refusal': None}, response_metadata={'token_usage': {'completion_tokens': 21, 'prompt_tokens': 85, 'total_tokens': 106, 'completion_tokens_details': {'accepted_prediction_tokens': 0, 'audio_tokens': 0, 'reasoning_tokens': 0, 'rejected_prediction_tokens': 0}, 'prompt_tokens_details': {'audio_tokens': 0, 'cached_tokens': 0}}, 'model_name': 'gpt-4o-2024-08-06', 'system_fingerprint': 'fp_df0f7b956c', 'id': 'chatcmpl-C7iPZmmm3pa8DYaFeIyxSiYbiIhZp', 'service_tier': 'default', 'finish_reason': 'tool_calls', 'logprobs': None}, id='run--3d337550-0812-4bd8-88bd-ecc1c38ada1f-0', tool_calls=[{'name': 'tavily_search_results_json', 'args': {'query': 'current weather in Kolkata'}, 'id': 'call_Las3X71EyN5LTGh5lIcGYzwv', 'type': 'tool_call'}], usage_metadata={'input_tokens': 85, 'output_tokens': 21, 'total_tokens': 106, 'input_token_details': {'audio': 0, 'cache_read': 0}, 'output_token_details': {'audio': 0, 'reasoning': 0}}),\n",
       "  ToolMessage(content=\"[{'title': 'Kolkata weather in August 2025 - Weather25.com', 'url': 'https://www.weather25.com/asia/india/west-bengal/kolkata?page=month&month=August', 'content': 'weather25.com\\\\nSearch\\\\nweather in India\\\\nRemove from your favorite locations\\\\nAdd to my locations\\\\nShare\\\\nweather in India\\\\n\\\\n# Kolkata weather in August 2025\\\\n\\\\nLight rain\\\\nLight rain shower\\\\nLight rain shower\\\\nThundery outbreaks possible\\\\nPartly cloudy\\\\nPatchy light drizzle\\\\nLight rain shower\\\\nPatchy light rain with thunder\\\\nThundery outbreaks possible\\\\nPatchy light rain with thunder\\\\nLight rain shower\\\\nModerate or heavy rain shower\\\\nLight rain shower\\\\nModerate or heavy rain shower [...] | 24 Light rain shower 31° /25° | 25 Light rain shower 32° /26° | 26 Thundery outbreaks possible 32° /26° | 27 Partly cloudy 34° /26° | 28 Patchy light drizzle 35° /27° | 29 Light rain shower 31° /26° | 30 Patchy light rain with thunder 30° /26° |\\\\n| 31 Thundery outbreaks possible 32° /26° |  |  |  |  |  |  | [...] Light rain shower\\\\nThundery outbreaks possible\\\\nPartly cloudy\\\\nPatchy light drizzle\\\\nLight rain shower\\\\nPatchy light rain with thunder\\\\nThundery outbreaks possible', 'score': 0.9203972}, {'title': 'Kolkata Weather Today (Saturday, Aug 23, 2025)', 'url': 'https://www.indiatoday.in/weather/kolkata-weather-forecast-today', 'content': 'The minimum temperature in Kolkata today is likely to hover around 25 degrees Celsius, while the maximum temperature might reach 27 degrees Celsius. The mercury level is expected to hover around 26 degrees Celsius throughout the day, with the wind speed around 4.57. The wind will move around 220 degrees with a gust speed of 9.15. The sunrise time is 05:16 AM, while it will set at 06:02 PM on Saturday. As per the seven-day weather prediction, the temperature in Kolkata is likely to reach 27 [...] ### TRENDING TOPICS\\\\n\\\\n### Download App\\\\n\\\\n# Kolkata Weather Today (Saturday, Aug 23, 2025)\\\\n\\\\nWeather Icon\\\\nmin\\\\nmax\\\\nrise\\\\nset\\\\nhumdity\\\\npressure\\\\nlon\\\\nlat\\\\nspeed\\\\ndeg\\\\ngust\\\\nRain\\\\nRain\\\\nRain\\\\nRain\\\\nClouds\\\\nRain\\\\nRain\\\\n\\\\n## Weather In Kolkata [...] degrees Celsius on Saturday, 32 degrees Celsius on Sunday, 32 degrees Celsius on Monday, 33 degrees Celsius on Tuesday, 34 degrees Celsius on Wednesday, 35 degrees Celsius on Thursday and 31 degrees Celsius on Friday.', 'score': 0.90869105}, {'title': 'Kolkata Weather Forecast 23 Aug 2025 - The Times of India', 'url': 'https://timesofindia.indiatimes.com/weather/kolkata-weather-forecast-today/700016', 'content': '## TOI\\\\n\\\\n# Kolkata Weather Forecast 23 Aug 2025\\\\n\\\\n114111823\\\\n114111893\\\\n114111893\\\\n114111808\\\\n114111808\\\\n114111808\\\\n114111895\\\\n114111823\\\\n114111823\\\\n114111880\\\\n114111880\\\\n114111880\\\\n114111880\\\\n114111880\\\\n114111880\\\\n114111842\\\\n114111842\\\\n114111880\\\\n114111880\\\\n114111893\\\\n114111897\\\\n114111897\\\\n114111895\\\\n114111895\\\\n114111893\\\\n114111893\\\\n114111893\\\\n114111893\\\\n114111893\\\\n114111880\\\\n114111880\\\\n\\\\n## Weather in Popular Cities Clear skies or hazardous air? Get the latest weather insights\\\\n\\\\n## FAQ’s [...] Delhi weather: Warm temperatures and intermittent rain expected today\\\\nUAE weather forecast: 4 days of mixed weather ahead, what residents need to know\\\\nMumbai civic body to partner with private agency for hyperlocal weather forecasts\\\\nlogo [...] ##### 1. What is the weather like in Kolkata today?\\\\n\\\\n##### 2. What is the chance of rain in Kolkata today?\\\\n\\\\n##### 3. When is the sunrise and sunset in Kolkata today?\\\\n\\\\n##### 4. What will the weather be like in Kolkata tomorrow?\\\\n\\\\n##### 5. Will it rain tomorrow in Kolkata?\\\\n\\\\n## Other Cities\\\\n\\\\n## Related Articles', 'score': 0.8967681}, {'title': 'Kolkata, West Bengal, India Monthly Weather - AccuWeather', 'url': 'https://www.accuweather.com/en/in/kolkata/206690/august-weather/206690', 'content': '# Kolkata, West Bengal\\\\n\\\\nKolkata\\\\n\\\\nWest Bengal\\\\n\\\\n## Around the Globe\\\\n\\\\nAround the Globe\\\\n\\\\n### Hurricane Tracker\\\\n\\\\n### Severe Weather\\\\n\\\\n### Radar & Maps\\\\n\\\\n### News & Features\\\\n\\\\n### Astronomy\\\\n\\\\n### Business\\\\n\\\\n### Climate\\\\n\\\\n### Health\\\\n\\\\n### Recreation\\\\n\\\\n### Sports\\\\n\\\\n### Travel\\\\n\\\\n### Warnings\\\\n\\\\n### Data Suite\\\\n\\\\n### Forensics\\\\n\\\\n### Advertising\\\\n\\\\n### Superior Accuracy™\\\\n\\\\n### Video\\\\n\\\\n## Monthly\\\\n\\\\n## August\\\\n\\\\n## 2025\\\\n\\\\n## Daily\\\\n\\\\n## Temperature Graph\\\\n\\\\n## Further Ahead\\\\n\\\\nFurther Ahead\\\\n\\\\n### September 2025\\\\n\\\\n### October 2025', 'score': 0.55796635}]\", name='tavily_search_results_json', id='ffd7eed3-c1e0-4c20-b1ee-74e8b492718c', tool_call_id='call_Las3X71EyN5LTGh5lIcGYzwv'),\n",
       "  AIMessage(content='', additional_kwargs={'tool_calls': [{'id': 'call_nRBsEvEf7eAHFoH0TaUmQcjj', 'function': {'arguments': '{\"query\":\"Kolkata weather today\"}', 'name': 'tavily_search_results_json'}, 'type': 'function'}], 'refusal': None}, response_metadata={'token_usage': {'completion_tokens': 22, 'prompt_tokens': 1311, 'total_tokens': 1333, 'completion_tokens_details': {'accepted_prediction_tokens': 0, 'audio_tokens': 0, 'reasoning_tokens': 0, 'rejected_prediction_tokens': 0}, 'prompt_tokens_details': {'audio_tokens': 0, 'cached_tokens': 0}}, 'model_name': 'gpt-4o-2024-08-06', 'system_fingerprint': 'fp_df0f7b956c', 'id': 'chatcmpl-C7iPgvMF0j7aW9pa77rJEz0X0CKso', 'service_tier': 'default', 'finish_reason': 'tool_calls', 'logprobs': None}, id='run--05d56824-029b-40ca-a0c2-5ad50913a6ed-0', tool_calls=[{'name': 'tavily_search_results_json', 'args': {'query': 'Kolkata weather today'}, 'id': 'call_nRBsEvEf7eAHFoH0TaUmQcjj', 'type': 'tool_call'}], usage_metadata={'input_tokens': 1311, 'output_tokens': 22, 'total_tokens': 1333, 'input_token_details': {'audio': 0, 'cache_read': 0}, 'output_token_details': {'audio': 0, 'reasoning': 0}}),\n",
       "  ToolMessage(content=\"[{'title': 'Kolkata weather in August 2025 - Weather25.com', 'url': 'https://www.weather25.com/asia/india/west-bengal/kolkata?page=month&month=August', 'content': 'weather25.com\\\\nSearch\\\\nweather in India\\\\nRemove from your favorite locations\\\\nAdd to my locations\\\\nShare\\\\nweather in India\\\\n\\\\n# Kolkata weather in August 2025\\\\n\\\\nLight rain\\\\nLight rain shower\\\\nLight rain shower\\\\nThundery outbreaks possible\\\\nPartly cloudy\\\\nPatchy light drizzle\\\\nLight rain shower\\\\nPatchy light rain with thunder\\\\nThundery outbreaks possible\\\\nPatchy light rain with thunder\\\\nLight rain shower\\\\nModerate or heavy rain shower\\\\nLight rain shower\\\\nModerate or heavy rain shower [...] | 24 Light rain shower 31° /25° | 25 Light rain shower 32° /26° | 26 Thundery outbreaks possible 32° /26° | 27 Partly cloudy 34° /26° | 28 Patchy light drizzle 35° /27° | 29 Light rain shower 31° /26° | 30 Patchy light rain with thunder 30° /26° |\\\\n| 31 Thundery outbreaks possible 32° /26° |  |  |  |  |  |  | [...] Light rain shower\\\\nThundery outbreaks possible\\\\nPartly cloudy\\\\nPatchy light drizzle\\\\nLight rain shower\\\\nPatchy light rain with thunder\\\\nThundery outbreaks possible', 'score': 0.93468803}, {'title': 'Weather in Kolkata in August 2025 - Detailed Forecast', 'url': 'https://www.easeweather.com/asia/india/west-bengal/kolkata/august', 'content': 'easeweather.com\\\\nIndia weather\\\\n\\\\n# Weather in Kolkata for August 2025\\\\n\\\\n### Temperatures\\\\n\\\\nUntil now, August 2025 in Kolkata has been nearly identical to the historical average, with a temperature of 32.7 °C (showing only a slight deviation of 0.3 °C).\\\\n\\\\nThe forecast for the next days in Kolkata predicts temperatures to be around 32 °C, close to the historical average. [...] | 22 Aug. | Light rain shower Light rain shower | 30° /26° | 13.8 mm | 7 |  |\\\\n| 23 Aug. | Moderate rain Moderate rain | 27° /25° | 5.6 mm | 2.2 |  |\\\\n| 24 Aug. | Patchy rain possible Patchy rain possible | 31° /25° | 4.9 mm | 1.5 |  |\\\\n| 25 Aug. | Moderate rain Moderate rain | 32° /26° | 7.2 mm | 2.4 |  |\\\\n| 26 Aug. | Patchy rain possible Patchy rain possible | 32° /26° | 0.5 mm | 2.4 |  |\\\\n| 27 Aug. | Partly cloudy Partly cloudy | 34° /26° | 0 mm | 3.6 |  | [...] | 25 Moderate rain 32° | 26 Patchy rain possible 32° | 27 Partly cloudy 34° | 28 Patchy rain possible 35° | 29 Patchy rain possible 31° | 30 Moderate rain 30° | 31 Patchy rain possible 32° |', 'score': 0.9184877}, {'title': 'Kolkata Weather Forecast 23 Aug 2025 - The Times of India', 'url': 'https://timesofindia.indiatimes.com/weather/kolkata-weather-forecast-today/700016', 'content': '## TOI\\\\n\\\\n# Kolkata Weather Forecast 23 Aug 2025\\\\n\\\\n114111823\\\\n114111893\\\\n114111893\\\\n114111808\\\\n114111808\\\\n114111808\\\\n114111895\\\\n114111823\\\\n114111823\\\\n114111880\\\\n114111880\\\\n114111880\\\\n114111880\\\\n114111880\\\\n114111880\\\\n114111842\\\\n114111842\\\\n114111880\\\\n114111880\\\\n114111893\\\\n114111897\\\\n114111897\\\\n114111895\\\\n114111895\\\\n114111893\\\\n114111893\\\\n114111893\\\\n114111893\\\\n114111893\\\\n114111880\\\\n114111880\\\\n\\\\n## Weather in Popular Cities Clear skies or hazardous air? Get the latest weather insights\\\\n\\\\n## FAQ’s [...] Delhi weather: Warm temperatures and intermittent rain expected today\\\\nUAE weather forecast: 4 days of mixed weather ahead, what residents need to know\\\\nMumbai civic body to partner with private agency for hyperlocal weather forecasts\\\\nlogo [...] ##### 1. What is the weather like in Kolkata today?\\\\n\\\\n##### 2. What is the chance of rain in Kolkata today?\\\\n\\\\n##### 3. When is the sunrise and sunset in Kolkata today?\\\\n\\\\n##### 4. What will the weather be like in Kolkata tomorrow?\\\\n\\\\n##### 5. Will it rain tomorrow in Kolkata?\\\\n\\\\n## Other Cities\\\\n\\\\n## Related Articles', 'score': 0.9154545}, {'title': 'West Bengal weather in August 2025 | Weather25.com', 'url': 'https://www.weather25.com/asia/india/west-bengal?page=month&month=August', 'content': '| 24 Light rain shower 31° /25° | 25 Light rain shower 32° /26° | 26 Thundery outbreaks possible 32° /26° | 27 Partly cloudy 34° /26° | 28 Patchy light drizzle 35° /27° | 29 Light rain shower 31° /26° | 30 Patchy light rain with thunder 30° /26° |\\\\n| 31 Thundery outbreaks possible 32° /26° |  |  |  |  |  |  | [...] Light rain shower\\\\nThundery outbreaks possible\\\\nPartly cloudy\\\\nPatchy light drizzle\\\\nLight rain shower\\\\nPatchy light rain with thunder\\\\nThundery outbreaks possible [...] weather25.com\\\\nSearch\\\\nweather in India\\\\nRemove from your favorite locations\\\\nAdd to my locations\\\\nShare\\\\nweather in India\\\\n\\\\n# West Bengal weather in August 2025\\\\n\\\\nLight rain\\\\nLight rain shower\\\\nLight rain shower\\\\nThundery outbreaks possible\\\\nPartly cloudy\\\\nPatchy light drizzle\\\\nLight rain shower\\\\nPatchy light rain with thunder\\\\nThundery outbreaks possible\\\\nPatchy light rain with thunder\\\\nLight rain shower\\\\nModerate or heavy rain shower\\\\nLight rain shower\\\\nModerate or heavy rain shower', 'score': 0.7686816}]\", name='tavily_search_results_json', id='ba0ffb44-a7be-4232-a4f2-2a43e12880fb', tool_call_id='call_nRBsEvEf7eAHFoH0TaUmQcjj'),\n",
       "  AIMessage(content=\"I'm unable to retrieve the latest weather data for Kolkata. You can check a reliable weather website or app like The Weather Channel, AccuWeather, or a local news site for up-to-date weather information.\", additional_kwargs={'refusal': None}, response_metadata={'token_usage': {'completion_tokens': 42, 'prompt_tokens': 2772, 'total_tokens': 2814, 'completion_tokens_details': {'accepted_prediction_tokens': 0, 'audio_tokens': 0, 'reasoning_tokens': 0, 'rejected_prediction_tokens': 0}, 'prompt_tokens_details': {'audio_tokens': 0, 'cached_tokens': 1280}}, 'model_name': 'gpt-4o-2024-08-06', 'system_fingerprint': 'fp_df0f7b956c', 'id': 'chatcmpl-C7iPmZQsxFYSANGV3IQlKE7I8Scnh', 'service_tier': 'default', 'finish_reason': 'stop', 'logprobs': None}, id='run--362ccbb4-c9b1-482f-99bc-c55aa79717bd-0', usage_metadata={'input_tokens': 2772, 'output_tokens': 42, 'total_tokens': 2814, 'input_token_details': {'audio': 0, 'cache_read': 1280}, 'output_token_details': {'audio': 0, 'reasoning': 0}}),\n",
       "  HumanMessage(content='What is current temperature in Kolkata today', additional_kwargs={}, response_metadata={}, id='bd305cd5-42cf-43dd-88f7-e390f2b98d54'),\n",
       "  AIMessage(content='', additional_kwargs={'tool_calls': [{'id': 'call_fcTCx53K6KbGS2aSntQ5nn8V', 'function': {'arguments': '{\"query\":\"current temperature in Kolkata today\"}', 'name': 'tavily_search_results_json'}, 'type': 'function'}], 'refusal': None}, response_metadata={'token_usage': {'completion_tokens': 22, 'prompt_tokens': 2828, 'total_tokens': 2850, 'completion_tokens_details': {'accepted_prediction_tokens': 0, 'audio_tokens': 0, 'reasoning_tokens': 0, 'rejected_prediction_tokens': 0}, 'prompt_tokens_details': {'audio_tokens': 0, 'cached_tokens': 2688}}, 'model_name': 'gpt-4o-2024-08-06', 'system_fingerprint': 'fp_df0f7b956c', 'id': 'chatcmpl-C7iSaoo2xaVbbLiGcuf56X9qajpAn', 'service_tier': 'default', 'finish_reason': 'tool_calls', 'logprobs': None}, id='run--8f63910a-93cf-4953-819a-4583c8e185b8-0', tool_calls=[{'name': 'tavily_search_results_json', 'args': {'query': 'current temperature in Kolkata today'}, 'id': 'call_fcTCx53K6KbGS2aSntQ5nn8V', 'type': 'tool_call'}], usage_metadata={'input_tokens': 2828, 'output_tokens': 22, 'total_tokens': 2850, 'input_token_details': {'audio': 0, 'cache_read': 2688}, 'output_token_details': {'audio': 0, 'reasoning': 0}}),\n",
       "  ToolMessage(content='[{\\'title\\': \\'Kolkata, West Bengal, India Weather Forecast\\', \\'url\\': \\'https://www.accuweather.com/en/in/kolkata/206690/weather-forecast/206690\\', \\'content\\': \"# Kolkata, West Bengal\\\\n\\\\nKolkata\\\\n\\\\nWest Bengal\\\\n\\\\n## Around the Globe\\\\n\\\\nAround the Globe\\\\n\\\\n### Hurricane Tracker\\\\n\\\\n### Severe Weather\\\\n\\\\n### Radar & Maps\\\\n\\\\n### News & Features\\\\n\\\\n### Astronomy\\\\n\\\\n### Business\\\\n\\\\n### Climate\\\\n\\\\n### Health\\\\n\\\\n### Recreation\\\\n\\\\n### Sports\\\\n\\\\n### Travel\\\\n\\\\n### Warnings\\\\n\\\\n### Data Suite\\\\n\\\\n### Forensics\\\\n\\\\n### Advertising\\\\n\\\\n### Superior Accuracy™\\\\n\\\\n### Video\\\\n\\\\n## Today\\\\n\\\\n## Today\\'s Weather\\\\n\\\\nSat, Aug 23\\\\n\\\\nPeriods of rain\\\\nHi: 86°\\\\n\\\\nTonight: Cloudy with occasional rain and a thunderstorm late\\\\nLo: 78° [...] ## Current Weather\\\\n\\\\n6:50 PM\\\\n\\\\n## Looking Ahead\\\\n\\\\nExpect rainy weather late Saturday night through Monday afternoon\\\\n\\\\n## Kolkata Weather Radar\\\\n\\\\nKolkata Weather Radar\\\\n\\\\n## Hourly Weather\\\\n\\\\nrain drop\\\\n\\\\nrain drop\\\\n\\\\nrain drop\\\\n\\\\nrain drop\\\\n\\\\nrain drop\\\\n\\\\nrain drop\\\\n\\\\nrain drop\\\\n\\\\nrain drop\\\\n\\\\nrain drop\\\\n\\\\nrain drop\\\\n\\\\nrain drop\\\\n\\\\nrain drop\\\\n\\\\n## 10-Day Weather Forecast\\\\n\\\\nToday\\\\n\\\\n8/23\\\\n\\\\nPeriods of rain\\\\n\\\\nNight: Some rain and a t-storm late\\\\n\\\\nSun\\\\n\\\\n8/24\\\\n\\\\nPeriods of rain\\\\n\\\\nCloudy with a touch of rain\\\\n\\\\nMon\\\\n\\\\n8/25\\\\n\\\\nPeriods of rain [...] Partly to mostly cloudy\\\\n\\\\nTue\\\\n\\\\n8/26\\\\n\\\\nPeriods of rain\\\\n\\\\nClear to partly cloudy\\\\n\\\\nWed\\\\n\\\\n8/27\\\\n\\\\nRather cloudy, a little rain\\\\n\\\\nPartly to mostly cloudy\\\\n\\\\nThu\\\\n\\\\n8/28\\\\n\\\\nCloudy with showers around\\\\n\\\\nA thunderstorm around early\\\\n\\\\nFri\\\\n\\\\n8/29\\\\n\\\\nCloudy with a bit of rain\\\\n\\\\nA little rain early; cloudy\\\\n\\\\nSat\\\\n\\\\n8/30\\\\n\\\\nCloudy with a bit of rain\\\\n\\\\nA little rain late\\\\n\\\\nSun\\\\n\\\\n8/31\\\\n\\\\nOccasional rain\\\\n\\\\nCloudy, a little rain late\\\\n\\\\nMon\\\\n\\\\n9/1\\\\n\\\\nOccasional rain\\\\n\\\\nA little late-night rain\\\\n\\\\n## Sun & Moon\\\\n\\\\n## Air Quality\", \\'score\\': 0.77731717}, {\\'title\\': \\'Kolkata, West Bengal, India 14 day weather forecast\\', \\'url\\': \\'https://www.timeanddate.com/weather/india/kolkata/ext\\', \\'content\\': \\'| Sat Aug 30 |  | 89 / 81 °F | Thunderstorms. Overcast. | 93 °F | 12 mph | ↑ | 84% | 99% | 0.74\" | 3 (Moderate) | 5:18 am | 5:55 pm |\\\\n| Sun Aug 31 |  | 88 / 81 °F | Thunderstorms. Overcast. | 92 °F | 13 mph | ↑ | 68% | 99% | 0.56\" | 5 (Moderate) | 5:18 am | 5:54 pm |\\\\n| Mon Sep 1 |  | 90 / 82 °F | A few tstorms. Overcast. | 100 °F | 8 mph | ↑ | 67% | 99% | 0.52\" | 5 (Moderate) | 5:19 am | 5:53 pm | [...] | Wed Aug 27 |  | 92 / 79 °F | Overcast. | 104 °F | 8 mph | ↑ | 67% | 5% | 0.00\" | 3 (Moderate) | 5:17 am | 5:58 pm |\\\\n| Thu Aug 28 |  | 94 / 79 °F | Showers late. Overcast. | 107 °F | 7 mph | ↑ | 60% | 40% | 0.11\" | 5 (Moderate) | 5:17 am | 5:57 pm |\\\\n| Fri Aug 29 |  | 91 / 81 °F | Thunderstorms. Overcast. | 93 °F | 14 mph | ↑ | 76% | 77% | 0.79\" | 5 (Moderate) | 5:18 am | 5:56 pm | [...] | Sun Aug 24 |  | 86 / 79 °F | Isolated tstorms. Cloudy. | 95 °F | 9 mph | ↑ | 81% | 47% | 0.17\" | 5 (Moderate) | 5:16 am | 6:00 pm |\\\\n| Mon Aug 25 |  | 89 / 79 °F | Passing showers. Cloudy. | 100 °F | 8 mph | ↑ | 77% | 59% | 0.24\" | 5 (Moderate) | 5:16 am | 6:00 pm |\\\\n| Tue Aug 26 |  | 91 / 80 °F | Passing showers. Broken clouds. | 101 °F | 9 mph | ↑ | 69% | 39% | 0.05\" | 5 (Moderate) | 5:17 am | 5:59 pm |\\', \\'score\\': 0.71305263}, {\\'title\\': \\'Kolkata weather in August 2025 - Weather25.com\\', \\'url\\': \\'https://www.weather25.com/asia/india/west-bengal/kolkata?page=month&month=August\\', \\'content\\': \\'| Month | Temperatures | Rainy Days | Dry Days | Snowy Days | Rainfall | Weather | More details |\\\\n| --- | --- | --- | --- | --- | --- | --- | --- |\\\\n| January | 28° / 18° | 0 | 31 | 0 | 6 mm | Perfect | Kolkata in January |\\\\n| February | 32° / 21° | 1 | 28 | 0 | 13 mm | Good | Kolkata in February |\\\\n| March | 37° / 24° | 2 | 29 | 0 | 19 mm | Ok | Kolkata in March |\\\\n| April | 40° / 27° | 4 | 26 | 0 | 49 mm | Bad | Kolkata in April | [...] | May | 39° / 28° | 9 | 22 | 0 | 117 mm | Awful | Kolkata in May |\\\\n| June | 37° / 29° | 12 | 18 | 0 | 184 mm | Bad | Kolkata in June |\\\\n| July | 34° / 28° | 20 | 11 | 0 | 350 mm | Bad | Kolkata in July |\\\\n| August | 33° / 27° | 21 | 10 | 0 | 362 mm | Ok | Kolkata in August |\\\\n| September | 33° / 26° | 17 | 13 | 0 | 255 mm | Ok | Kolkata in September |\\\\n| October | 32° / 25° | 7 | 24 | 0 | 153 mm | Ok | Kolkata in October |\\\\n| November | 31° / 22° | 1 | 29 | 0 | 35 mm | Good | Kolkata in November | [...] | 24 Light rain shower 31° /25° | 25 Light rain shower 32° /26° | 26 Thundery outbreaks possible 32° /26° | 27 Partly cloudy 34° /26° | 28 Patchy light drizzle 35° /27° | 29 Light rain shower 31° /26° | 30 Patchy light rain with thunder 30° /26° |\\\\n| 31 Thundery outbreaks possible 32° /26° |  |  |  |  |  |  |\\', \\'score\\': 0.5815176}, {\\'title\\': \\'10-day weather forecast for Kolkata, West Bengal, India\\', \\'url\\': \\'https://weather.com/en-BS/weather/tenday/l/65307c9954bbf461e71b8cb987691c0af427677700162d610cd37255f371240f\\', \\'content\\': \\'## Recent Locations\\\\n\\\\n## Products & Account\\\\n\\\\n### Special Forecasts\\\\n\\\\n# 10-Day Weather-Kolkata, West Bengal, India\\\\n\\\\nScattered showers tonight. Heavy downpours, frequent lightning with storms tomorrow.\\\\n\\\\n## Tonight\\\\n\\\\n## Night\\\\n\\\\nShowers late at night. Hazy. Low 26°C. Winds SSW at 10 to 15 km/h. Chance of rain 40%.\\\\n\\\\n## Sun 24\\\\n\\\\n## Day\\\\n\\\\nThundershowers. Heavy downpours, frequent lightning with storms. High 29°C. Winds S at 10 to 15 km/h. Chance of rain 80%.\\\\n\\\\n## Night [...] Showers. Low 26°C. Winds SE at 10 to 15 km/h. Chance of rain 70%.\\\\n\\\\n## Sat 30\\\\n\\\\n## Day\\\\n\\\\nThunderstorms. High 30°C. Winds SE at 15 to 25 km/h. Chance of rain 70%.\\\\n\\\\n## Night\\\\n\\\\nShowers. Low 26°C. Winds SE at 10 to 15 km/h. Chance of rain 60%.\\\\n\\\\n## Sun 31\\\\n\\\\n## Day\\\\n\\\\nThunderstorms. Hazy. High 30°C. Winds SE at 10 to 15 km/h. Chance of rain 60%.\\\\n\\\\n## Night\\\\n\\\\nShowers. Low 27°C. Winds light and variable. Chance of rain 60%.\\\\n\\\\n## Mon 01\\\\n\\\\n## Day [...] Thunderstorms. High 31°C. Winds SSE at 10 to 15 km/h. Chance of rain 60%.\\\\n\\\\n## Night\\\\n\\\\nShowers. Low 27°C. Winds SSE at 10 to 15 km/h. Chance of rain 60%.\\\\n\\\\n## Radar\\\\n\\\\nThe Weather Company\\\\nThe Weather Channel\\\\nWeather Underground\\\\nStorm Radar\\\\nGeorgia Org\\\\nLink to eSSENTIAL Accessibility assistive technology\\\\n\\\\nWe recognise our responsibility to use data and technology for good. We may use or share your data with our data vendors. Take control of your data.\\', \\'score\\': 0.5637388}]', name='tavily_search_results_json', id='2e4d9b0e-bc04-4252-b2c8-c08725f9c2fc', tool_call_id='call_fcTCx53K6KbGS2aSntQ5nn8V'),\n",
       "  AIMessage(content=\"I'm unable to retrieve the current temperature for Kolkata at the moment. For the latest and most accurate information, I suggest checking a weather website like AccuWeather, Weather.com, or a local news site.\", additional_kwargs={'refusal': None}, response_metadata={'token_usage': {'completion_tokens': 42, 'prompt_tokens': 5155, 'total_tokens': 5197, 'completion_tokens_details': {'accepted_prediction_tokens': 0, 'audio_tokens': 0, 'reasoning_tokens': 0, 'rejected_prediction_tokens': 0}, 'prompt_tokens_details': {'audio_tokens': 0, 'cached_tokens': 2816}}, 'model_name': 'gpt-4o-2024-08-06', 'system_fingerprint': 'fp_df0f7b956c', 'id': 'chatcmpl-C7iSglCm4zl4YE4YFKlV1a0y8JSCH', 'service_tier': 'default', 'finish_reason': 'stop', 'logprobs': None}, id='run--28d0687e-2363-4e88-8ad9-80cf230f52be-0', usage_metadata={'input_tokens': 5155, 'output_tokens': 42, 'total_tokens': 5197, 'input_token_details': {'audio': 0, 'cache_read': 2816}, 'output_token_details': {'audio': 0, 'reasoning': 0}}),\n",
       "  HumanMessage(content='When is the next SpaceX launch', additional_kwargs={}, response_metadata={}, id='ffbf5d3b-6c68-46d2-850e-d4fbe07c5255'),\n",
       "  AIMessage(content='', additional_kwargs={'tool_calls': [{'id': 'call_7AlYkKDqf5SxNn2Xb5ELxwHI', 'function': {'arguments': '{\"query\":\"next SpaceX launch date\"}', 'name': 'tavily_search_results_json'}, 'type': 'function'}], 'refusal': None}, response_metadata={'token_usage': {'completion_tokens': 22, 'prompt_tokens': 5211, 'total_tokens': 5233, 'completion_tokens_details': {'accepted_prediction_tokens': 0, 'audio_tokens': 0, 'reasoning_tokens': 0, 'rejected_prediction_tokens': 0}, 'prompt_tokens_details': {'audio_tokens': 0, 'cached_tokens': 5120}}, 'model_name': 'gpt-4o-2024-08-06', 'system_fingerprint': 'fp_df0f7b956c', 'id': 'chatcmpl-C7iTZH9RCaVnBUtiGkI6ka2jerRN9', 'service_tier': 'default', 'finish_reason': 'tool_calls', 'logprobs': None}, id='run--8201baea-e9e5-4147-ac1e-18a00d34dd3b-0', tool_calls=[{'name': 'tavily_search_results_json', 'args': {'query': 'next SpaceX launch date'}, 'id': 'call_7AlYkKDqf5SxNn2Xb5ELxwHI', 'type': 'tool_call'}], usage_metadata={'input_tokens': 5211, 'output_tokens': 22, 'total_tokens': 5233, 'input_token_details': {'audio': 0, 'cache_read': 5120}, 'output_token_details': {'audio': 0, 'reasoning': 0}}),\n",
       "  ToolMessage(content='[{\\'title\\': \\'SpaceX Launch Schedule\\', \\'url\\': \\'https://www.rocketlaunch.live/?filter=spacex\\', \\'content\\': \\'| Selected |\\\\n| --- |\\\\n| Providers | all |\\\\n| Locations | all |\\\\n| Launches | 25 |\\\\n\\\\n### Next SpaceX Launch\\\\n\\\\nJUL 30\\\\n\\\\n03:30 \\\\n\\\\n#### Starlink (10-29) Mission (Falcon 9)\")\\\\n\\\\n#### Falcon 9\\\\n\\\\nSpaceX\\\\n\\\\n SLC-40, Cape Canaveral SFS\\\\n\\\\nFlorida, United States\\\\n\\\\n  \\\\n\\\\nOn launch day, head back here to watch the live stream! (if available)\\\\n\\\\n  \\\\n\\\\nSeries: SpaceX Starlink\\\\n\\\\nJUL 29\\\\n\\\\nJUL 30\\\\n\\\\n03:30 \\\\n\\\\n#### Starlink (10-29) Mission (Falcon 9)\")\\\\n\\\\n#### Falcon 9\\\\n\\\\nSpaceX\\\\n\\\\n SLC-40, Cape Canaveral SFS\\\\n\\\\nFlorida, United States [...] Launch Pad, Andøya Space\\\\n\\\\nNorway\\\\n\\\\nMAR 22\\\\n\\\\n2028\")\\\\n\\\\n#### Luna 27\")\\\\n\\\\n#### Soyuz-2\\\\n\\\\nRoscosmos\\\\n\\\\n Site 1S, Vostochny Cosmodrome\\\\n\\\\nRussia\\\\n\\\\nLunar Lander\\\\n\\\\nMAR 23\\\\n\\\\nQ3 2029\")\\\\n\\\\n#### Artemis V\")\\\\n\\\\n#### SLS\\\\n\\\\nNASA\\\\n\\\\n LC-36B, Cape Canaveral SFS\\\\n\\\\nFlorida, United States\\\\n\\\\nCrewed\\\\n\\\\nLunar Expedition\\\\n\\\\nFEB 13\\\\n\\\\nQ3 2030\")\\\\n\\\\n#### Artemis VI\")\\\\n\\\\n#### SLS\\\\n\\\\nNASA\\\\n\\\\n LC-36B, Cape Canaveral SFS\\\\n\\\\nFlorida, United States\\\\n\\\\nCrewed\\\\n\\\\nLunar Expedition\\\\n\\\\nFEB 13\\\\n\\\\nImage 9\\\\n\\\\nShow past launches\\\\n\\\\n#### Upcoming Launches\\\\n\\\\nImage 10 [...] Florida, United States\\\\n\\\\nJUN 19 2024\\\\n\\\\n2025\")\\\\n\\\\n#### ASLON-45\")\\\\n\\\\n#### Ravn\\\\n\\\\nAevum\\\\n\\\\n Pad TBD, United States TBD\\\\n\\\\nUnited States\\\\n\\\\nVector relinquishes Air Force launch contract, mission re-awarded to Aevum (SpaceNews)\\\\n\\\\nAir Launch\\\\n\\\\nJUL 11 2024\\\\n\\\\n2025\")\\\\n\\\\n#### GO-1 Mission\")\\\\n\\\\n#### Ariane 6\\\\n\\\\nArianespace\\\\n\\\\n ELA-4, Guiana Space Centre\\\\n\\\\nFrench Guiana\\\\n\\\\nJAN 16\\\\n\\\\n2025\")\\\\n\\\\n#### Optus-11\")\\\\n\\\\n#### Ariane 6\\\\n\\\\nArianespace\\\\n\\\\n ELA-4, Guiana Space Centre\\\\n\\\\nFrench Guiana\\', \\'score\\': 0.8891543}, {\\'title\\': \\'Space Launch Schedule & Live Videos: Stream Rockets ...\\', \\'url\\': \\'https://www.spacelaunchschedule.com/\\', \\'content\\': \\'Go For Launch \\\\n\\\\n Wed • Aug 20th, 2025\\\\n\\\\n 5:13 PM UTC \\\\n\\\\n Baikonur Cosmodrome, Republic of Kazakhstan \\\\n\\\\n (USSF-36)Falcon 9 Block 5 ---------------------------------------\\\\n### SpaceX\\\\n\\\\n Date/Time TBD \\\\n\\\\n Projected To Launch\\\\n\\\\n Thu • Aug 21st, 2025 \\\\n\\\\n Kennedy Space Center, FL, USA \\\\n\\\\n\\\\n   Vulcan\\\\n   New Glenn\\\\n   New Shepard\\\\n\\\\n### View The Rocket Launch Schedule\\\\n\\\\n### By Location\\', \\'score\\': 0.8690161}, {\\'title\\': \\'SpaceX Launch Manifest\\', \\'url\\': \\'https://nextspaceflight.com/launches/agency/upcoming/1/\\', \\'content\\': \\'SpaceX Launch Manifest\\\\n\\\\n===============\\\\n\\\\nNEXT SPACEFLIGHTLaunchesEventsStarshipRocketsReuseLocations\\\\n\\\\nNEXT SPACEFLIGHTImage 1 LaunchesImage 2 EventsImage 3 StarshipImage 4 RocketsImage 5 ReuseImage 6 Locations\\\\n\\\\n### SpaceX Manifest\\\\n\\\\nUpcomingPast\\\\n\\\\n SpaceX \\\\n\\\\n##### Falcon 9 Block 5 | Project Kuiper (KF-01)\\\\n\\\\n ASOG \\\\n\\\\n Inflight | Launch Wed Jul 16, 2025 06:30 UTC\\\\n\\\\nSLC-40, Cape Canaveral SFS, Florida, USA \\\\n\\\\nDetailsWatch\\\\n\\\\n SpaceX \\\\n\\\\n##### Falcon 9 Block 5 | Starlink Group 17-3\\\\n\\\\n OCISLY [...] Sat Jul 19, 2025 02:08 UTC\\\\n\\\\nSLC-4E, Vandenberg SFB, California, USA \\\\n\\\\nDetails\\\\n\\\\n SpaceX \\\\n\\\\n##### Falcon 9 Block 5 | Starlink Group 17-2\\\\n\\\\n OCISLY \\\\n\\\\nMon Jul 21, 2025 02:09 UTC\\\\n\\\\nSLC-4E, Vandenberg SFB, California, USA \\\\n\\\\nDetails\\\\n\\\\n SpaceX \\\\n\\\\n##### Falcon 9 Block 5 | O3b mPOWER 9 & 10\\\\n\\\\n ASDS \\\\n\\\\nMon Jul 21, 2025 21:00 UTC\\\\n\\\\nSLC-40, Cape Canaveral SFS, Florida, USA \\\\n\\\\nDetails\\\\n\\\\n SpaceX \\\\n\\\\n##### Falcon 9 Block 5 | TRACERS & Others\\\\n\\\\n LZ-4 \\\\n\\\\nTue Jul 22, 2025 18:05 UTC\\\\n\\\\nSLC-4E, Vandenberg SFB, California, USA [...] Details\\\\n\\\\n SpaceX \\\\n\\\\n##### Falcon 9 Block 5 | SpaceX Crew-11\\\\n\\\\n LZ-1 \\\\n\\\\n Shannon \\\\n\\\\nThu Jul 31, 2025 16:09 UTC\\\\n\\\\nLC-39A, Kennedy Space Center, Florida, USA \\\\n\\\\nDetails\\\\n\\\\n SpaceX \\\\n\\\\n##### Falcon 9 Block 5 | Tranche 1 Transport Layer B\\\\n\\\\n NET July, 2025 \\\\n\\\\nSLC-4E, Vandenberg SFB, California, USA \\\\n\\\\nDetails\\\\n\\\\n SpaceX \\\\n\\\\n##### Falcon 9 Block 5 | Nusantara Lima\\\\n\\\\n NET August, 2025 \\\\n\\\\nSLC-40 or LC-39A, Florida, USA \\\\n\\\\nDetails\\\\n\\\\n SpaceX \\\\n\\\\n##### Falcon 9 Block 5 | CRS SpX-33\\\\n\\\\n LZ-1 \\\\n\\\\n Shannon \\\\n\\\\n NET August, 2025\\', \\'score\\': 0.85624856}, {\\'title\\': \\'Next Spaceflight\\', \\'url\\': \\'https://nextspaceflight.com/\\', \\'content\\': \\'Next Spaceflight | Rocket Launch Schedule\\\\n\\\\n===============\\\\n\\\\nNEXT SPACEFLIGHTLaunchesEventsStarshipRocketsReuseLocations\\\\n\\\\nNEXT SPACEFLIGHTImage 1 LaunchesImage 2 EventsImage 3 StarshipImage 4 RocketsImage 5 ReuseImage 6 Locations\\\\n\\\\n SpaceX \\\\n\\\\n##### Falcon 9 Block 5 | Starlink Group 17-4\\\\n\\\\n OCISLY \\\\n\\\\nTue Aug 12, 2025 02:05 UTC\\\\n\\\\nSLC-4E, Vandenberg SFB, California, USA \\\\n\\\\nDetailsWatch\\\\n\\\\n ULA \\\\n\\\\n##### Vulcan VC4S | USSF-106 (NTS-3 & Others)\\\\n\\\\nTue Aug 12, 2025 23:59 UTC\\', \\'score\\': 0.85186684}]', name='tavily_search_results_json', id='80df1424-66e9-4667-87d9-0bbd21147922', tool_call_id='call_7AlYkKDqf5SxNn2Xb5ELxwHI'),\n",
       "  AIMessage(content=\"The next SpaceX launch is scheduled for July 30th, 2025, at 03:30 from SLC-40, Cape Canaveral Space Force Station in Florida, USA. This mission is part of the Starlink series. For the most current updates and possible changes, you can check official sources like [SpaceX's official website](https://www.spacex.com/launches/) or [RocketLaunch.live](https://www.rocketlaunch.live/?filter=spacex).\", additional_kwargs={'refusal': None}, response_metadata={'token_usage': {'completion_tokens': 104, 'prompt_tokens': 6864, 'total_tokens': 6968, 'completion_tokens_details': {'accepted_prediction_tokens': 0, 'audio_tokens': 0, 'reasoning_tokens': 0, 'rejected_prediction_tokens': 0}, 'prompt_tokens_details': {'audio_tokens': 0, 'cached_tokens': 5120}}, 'model_name': 'gpt-4o-2024-08-06', 'system_fingerprint': 'fp_df0f7b956c', 'id': 'chatcmpl-C7iTd2SkLuKiz30kppO6OQBnQD9L0', 'service_tier': 'default', 'finish_reason': 'stop', 'logprobs': None}, id='run--d18347e8-6f52-4c4f-9ebe-3838d8fddd28-0', usage_metadata={'input_tokens': 6864, 'output_tokens': 104, 'total_tokens': 6968, 'input_token_details': {'audio': 0, 'cache_read': 5120}, 'output_token_details': {'audio': 0, 'reasoning': 0}})]}"
      ]
     },
     "execution_count": 86,
     "metadata": {},
     "output_type": "execute_result"
    }
   ],
   "source": [
    "config={\n",
    "    \"configurable\":{\n",
    "        \"thread_id\": 5\n",
    "    }\n",
    "}\n",
    "\n",
    "response= await graph.ainvoke({\n",
    "    \"messages\": [HumanMessage(content=\"When is the next SpaceX launch\")]\n",
    "}, config=config)\n",
    "\n",
    "response"
   ]
  },
  {
   "cell_type": "code",
   "execution_count": 88,
   "id": "925d22e9",
   "metadata": {},
   "outputs": [
    {
     "name": "stdout",
     "output_type": "stream",
     "text": [
      "The next SpaceX launch is scheduled for July 30 at 03:30 UTC. This is for the Starlink (10-29) Mission using a Falcon 9 rocket from SLC-40 at Cape Canaveral Space Force Station in Florida, USA."
     ]
    }
   ],
   "source": [
    "config={\n",
    "    \"configurable\":{\n",
    "        \"thread_id\": 6\n",
    "    }\n",
    "}\n",
    "async for event in graph.astream_events({\n",
    "    \"messages\": [HumanMessage(content=\"When is the next SpaceX launch\")]\n",
    "}, config=config, version=\"v2\"):\n",
    "    if event[\"event\"]==\"on_chat_model_stream\":\n",
    "        print(event[\"data\"][\"chunk\"].content, end=\"\", flush=True)"
   ]
  }
 ],
 "metadata": {
  "kernelspec": {
   "display_name": "venv",
   "language": "python",
   "name": "python3"
  },
  "language_info": {
   "codemirror_mode": {
    "name": "ipython",
    "version": 3
   },
   "file_extension": ".py",
   "mimetype": "text/x-python",
   "name": "python",
   "nbconvert_exporter": "python",
   "pygments_lexer": "ipython3",
   "version": "3.13.5"
  }
 },
 "nbformat": 4,
 "nbformat_minor": 5
}
